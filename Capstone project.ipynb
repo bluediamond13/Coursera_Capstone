{
    "cells": [
        {
            "cell_type": "markdown",
            "metadata": {
                "collapsed": true
            },
            "source": "<h1>Coursera Capstone Project: Battle of the Foodie Neighborhoods"
        },
        {
            "cell_type": "markdown",
            "metadata": {},
            "source": "The Coursera IBM Data Science capstone project on neighborhoods."
        },
        {
            "cell_type": "markdown",
            "metadata": {},
            "source": "Which city has the widest range of international restaurants, New York, Los Angeles, or Houston? Wait. Houston?!"
        },
        {
            "cell_type": "markdown",
            "metadata": {},
            "source": "# Introduction"
        },
        {
            "cell_type": "markdown",
            "metadata": {},
            "source": "International chef, Roberta Bacon, wants to know where she should open her next restaurant. Since her restaurants are an international fusion, she wants a city with a vibrant international community and a wide range of international restaurants already present in the city. A friend recently forwarded an article about Houston's foodie scene and she's curious, especially since Houston could have cheaper rent than such traditional locations as New York or Los Angeles."
        },
        {
            "cell_type": "markdown",
            "metadata": {},
            "source": "This report will gather and analyze the data required to assess the various factors that will help Roberta select the best city and neighborhood for her restaurant. The three cities will be examined as a whole to assess the international flavor of those restaurants already present, indicating a population open to, and already seeking out, international cuisines. Since Roberta's restaurants target the higher end of the market the restaurant ratings and pricing will be examined in more detail. Clusters of these highly-rated and higher priced international restaurants will be identified by neighborhood or zipcode. Lastly, the potential locations will be assessed based on their range of other venues and the average commercial rent for that area of the city."
        },
        {
            "cell_type": "markdown",
            "metadata": {},
            "source": "# Data"
        },
        {
            "cell_type": "markdown",
            "metadata": {},
            "source": "Data from Foursquare will be mined to answer the following questions:\n1. Which city has the most international (non-American) cuisine restaurants?\n2. Which city has the widest variety of international (non-American) cuisine restaurants?\n3. Which city has the most high-rating (7+) international (non-American) cuisine restaurants?\n3. Where, in each city, should she look to open a restaurant? i.e. which neighborhoods and zipcodes have the highest clusters of highly-rated and pricier interational cuisine?\n5. How long, on average, have the restaurants rated 7+ been open in those neighborhoods?\n4. Looking at the top three in each city, based on number, variety and longevity, what other kinds of venues are present in those neighborhoods?\n\nTaking the top three locations for the three cities, commercial rental rates will be sourced from Loopnet and imported as a spreadsheet to answer the last question: \n6. What is the average commercial rent in those neighborhoods?\n\nFinally, the data for the nine potential locations will be visualized to allow for easier comparison and decision-making."
        },
        {
            "cell_type": "markdown",
            "metadata": {},
            "source": "Restaurant data for Los Angeles, New York and Houston, including cuisine type, rating, pricing, location, and visit information will be pulled from Fourspuare in order to make the analysis.\n- The cuisine type will allow sorting of the restaurants and elimination of those that serve primarily American cuisine. We will also be able to count how many different types of cuisine exist in each city and look at any skews in cuisine type - lots of Italian restaurants for example.\n- The restaurant rating will allow us to filter for the highly-rated establishments, and the pricing and location will allow us to map the restaurants and look for zip codes that support higher rated and pricier places.\n- Once these potential zip codes have been identified, historical check-in information will give a good idea of the stability of the restaurants in that area.\n- Information for all types of venues will then be pulled from Foursquare for the potential zip codes ONLY. This venue data will be examined for the types and variety of venue in the zip code. This could tell us if it is a theater district with a lot of evening traffic, or a business area with a mix of lunch and evening traffic etc.\n\nFinally, the average commercial rent for those nine potential zip codes (three in each city) will be sourced from loopnet.com. This will probably require manual searching and entering into a spreadsheet. However, it is only for nine zip codes. The spreadsheet can then be imported into Python as a .csv file."
        },
        {
            "cell_type": "markdown",
            "metadata": {},
            "source": "## Data Import and Analysis"
        },
        {
            "cell_type": "markdown",
            "metadata": {},
            "source": "Import all the required packages:"
        },
        {
            "cell_type": "code",
            "execution_count": null,
            "metadata": {},
            "outputs": [],
            "source": ""
        },
        {
            "cell_type": "code",
            "execution_count": 2,
            "metadata": {},
            "outputs": [],
            "source": "import pandas as pd\nimport numpy as np"
        },
        {
            "cell_type": "code",
            "execution_count": null,
            "metadata": {},
            "outputs": [],
            "source": ""
        },
        {
            "cell_type": "code",
            "execution_count": null,
            "metadata": {},
            "outputs": [],
            "source": ""
        }
    ],
    "metadata": {
        "kernelspec": {
            "display_name": "Python 3.6",
            "language": "python",
            "name": "python3"
        },
        "language_info": {
            "codemirror_mode": {
                "name": "ipython",
                "version": 3
            },
            "file_extension": ".py",
            "mimetype": "text/x-python",
            "name": "python",
            "nbconvert_exporter": "python",
            "pygments_lexer": "ipython3",
            "version": "3.6.9"
        }
    },
    "nbformat": 4,
    "nbformat_minor": 1
}